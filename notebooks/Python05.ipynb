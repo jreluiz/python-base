{
 "cells": [
  {
   "cell_type": "markdown",
   "metadata": {},
   "source": [
    "# Aula 05: Introdução à Análise de Dados com Pandas"
   ]
  },
  {
   "cell_type": "markdown",
   "metadata": {},
   "source": [
    "## O que é o Pandas?\n",
    "\n",
    "Pandas é uma biblioteca de software livre para a linguagem de programação Python, amplamente utilizada para manipulação e análise de dados. Ela oferece estruturas de dados e operações para manipular tabelas numéricas e séries temporais.\n",
    "\n",
    "O nome `pandas` tem referência tanto a *Panel Data* (dados em painel), um termo de econometria para conjuntos de dados multidimensionais, quanto a *Python Data Analysis*.\n",
    "\n",
    "As duas principais estruturas de dados do Pandas são a **Series** (unidimensional) e o **DataFrame** (bidimensional)."
   ]
  },
  {
   "cell_type": "markdown",
   "metadata": {},
   "source": [
    "### Instalando e importando o Pandas\n",
    "\n",
    "Primeiro, se você ainda não tiver o pandas instalado, pode instalá-lo com o pip:\n",
    "```bash\n",
    "pip install pandas numpy\n",
    "```\n",
    "Em seguida, a convenção da comunidade é importar o pandas com o apelido `pd` e o numpy (que é frequentemente usado junto com o pandas) como `np`. "
   ]
  },
  {
   "cell_type": "code",
   "execution_count": null,
   "metadata": {},
   "outputs": [],
   "source": [
    "import pandas as pd\n",
    "import numpy as np"
   ]
  },
  {
   "cell_type": "markdown",
   "metadata": {},
   "source": [
    "### Series\n",
    "\n",
    "Uma `Series` é como um array unidimensional que pode armazenar qualquer tipo de dado (inteiros, strings, floats, objetos Python, etc.), com um índice associado. O índice é o que rotula cada elemento da `Series`. "
   ]
  },
  {
   "cell_type": "code",
   "execution_count": null,
   "metadata": {},
   "outputs": [],
   "source": [
    "# Criando uma Series a partir de uma lista\n",
    "s = pd.Series([10, 20, 30, np.nan, 50, 60])\n",
    "\n",
    "print(s)"
   ]
  },
  {
   "cell_type": "markdown",
   "metadata": {},
   "source": [
    "### DataFrame\n",
    "\n",
    "Um `DataFrame` é uma estrutura de dados bidimensional, semelhante a uma planilha do Excel ou uma tabela de banco de dados. Ele possui linhas e colunas, e cada coluna pode ter um tipo de dado diferente. "
   ]
  },
  {
   "cell_type": "code",
   "execution_count": null,
   "metadata": {},
   "outputs": [],
   "source": [
    "# Criando um DataFrame a partir de um dicionário de listas\n",
    "data = {\n",
    "    'País': ['Brasil', 'Argentina', 'Uruguai', 'Chile'],\n",
    "    'Capital': ['Brasília', 'Buenos Aires', 'Montevidéu', 'Santiago'],\n",
    "    'População (milhões)': [214, 45, 3.4, 19]\n",
    "}\n",
    "\n",
    "df = pd.DataFrame(data)\n",
    "\n",
    "print(df)"
   ]
  },
  {
   "cell_type": "markdown",
   "metadata": {},
   "source": [
    "### Visualizando Dados\n",
    "\n",
    "Existem várias funções para obter uma visão rápida dos seus dados: "
   ]
  },
  {
   "cell_type": "code",
   "execution_count": null,
   "metadata": {},
   "outputs": [],
   "source": [
    "# Mostra as 5 primeiras linhas\n",
    "df.head()"
   ]
  },
  {
   "cell_type": "code",
   "execution_count": null,
   "metadata": {},
   "outputs": [],
   "source": [
    "# Mostra as 3 últimas linhas\n",
    "df.tail(3)"
   ]
  },
  {
   "cell_type": "code",
   "execution_count": null,
   "metadata": {},
   "outputs": [],
   "source": [
    "# Fornece um resumo estatístico dos dados numéricos\n",
    "df.describe()"
   ]
  },
  {
   "cell_type": "code",
   "execution_count": null,
   "metadata": {},
   "outputs": [],
   "source": [
    "# Fornece informações sobre o DataFrame, como tipos de dados e uso de memória\n",
    "df.info()"
   ]
  },
  {
   "cell_type": "markdown",
   "metadata": {},
   "source": [
    "### Seleção de Dados\n",
    "\n",
    "Você pode selecionar colunas, linhas e células específicas. "
   ]
  },
  {
   "cell_type": "code",
   "execution_count": null,
   "metadata": {},
   "outputs": [],
   "source": [
    "# Selecionando uma única coluna (retorna uma Series)\n",
    "df['Capital']"
   ]
  },
  {
   "cell_type": "code",
   "execution_count": null,
   "metadata": {},
   "outputs": [],
   "source": [
    "# Selecionando múltiplas colunas\n",
    "df[['País', 'Capital']]"
   ]
  },
  {
   "cell_type": "markdown",
   "metadata": {},
   "source": [
    "#### Seleção por Rótulo (`.loc`)\n",
    "Use `.loc` para selecionar dados com base nos rótulos do índice. "
   ]
  },
  {
   "cell_type": "code",
   "execution_count": null,
   "metadata": {},
   "outputs": [],
   "source": [
    "# Selecionando a linha com índice 1\n",
    "df.loc[1]"
   ]
  },
  {
   "cell_type": "markdown",
   "metadata": {},
   "source": [
    "#### Seleção por Posição (`.iloc`)\n",
    "Use `.iloc` para selecionar dados com base na posição inteira (de 0 até o tamanho-1)."
   ]
  },
  {
   "cell_type": "code",
   "execution_count": null,
   "metadata": {},
   "outputs": [],
   "source": [
    "# Selecionando a primeira linha (posição 0)\n",
    "df.iloc[0]"
   ]
  },
  {
   "cell_type": "markdown",
   "metadata": {},
   "source": [
    "### Filtrando Dados\n",
    "\n",
    "Podemos filtrar o DataFrame com base em condições. "
   ]
  },
  {
   "cell_type": "code",
   "execution_count": null,
   "metadata": {},
   "outputs": [],
   "source": [
    "# Filtrando países com população maior que 20 milhões\n",
    "df[df['População (milhões)'] > 20]"
   ]
  },
  {
   "cell_type": "markdown",
   "metadata": {},
   "source": [
    "### Leitura e Escrita de Arquivos\n",
    "\n",
    "Pandas pode ler e escrever dados em diversos formatos, como CSV, Excel, JSON, SQL, etc. "
   ]
  },
  {
   "cell_type": "code",
   "execution_count": null,
   "metadata": {},
   "outputs": [],
   "source": [
    "# Salvando o DataFrame em um arquivo CSV\n",
    "df.to_csv('paises.csv', index=False) # index=False para não salvar o índice no arquivo\n",
    "\n",
    "print(\"Arquivo 'paises.csv' salvo com sucesso!\")"
   ]
  },
  {
   "cell_type": "code",
   "execution_count": null,
   "metadata": {},
   "outputs": [],
   "source": [
    "# Lendo dados de um arquivo CSV\n",
    "df_lido = pd.read_csv('paises.csv')\n",
    "\n",
    "print(\"Conteúdo lido do arquivo:\")\n",
    "print(df_lido)"
   ]
  },
  {
   "cell_type": "markdown",
   "metadata": {},
   "source": [
    "### Conclusão\n",
    "\n",
    "Esta foi uma breve introdução ao Pandas. Cobrimos os conceitos básicos de Series e DataFrames, como visualizar, selecionar, filtrar e salvar dados. O Pandas é uma ferramenta extremamente poderosa e versátil, e explorar sua documentação oficial é o melhor caminho para se aprofundar."
   ]
  }
 ],
 "metadata": {
  "kernelspec": {
   "display_name": "Python 3",
   "language": "python",
   "name": "python3"
  },
  "language_info": {
   "codemirror_mode": {
    "name": "ipython",
    "version": 3
   },
   "file_extension": ".py",
   "mimetype": "text/x-python",
   "name": "python",
   "nbconvert_exporter": "python",
   "pygments_lexer": "ipython3",
   "version": "3.9.12"
  }
 },
 "nbformat": 4,
 "nbformat_minor": 4
}
