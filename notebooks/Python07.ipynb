{
 "cells": [
  {
   "cell_type": "markdown",
   "metadata": {},
   "source": [
    "# Aula 07: Gráficos Estatísticos Avançados com Seaborn"
   ]
  },
  {
   "cell_type": "markdown",
   "metadata": {},
   "source": [
    "## O que é Seaborn?\n",
    "\n",
    "Seaborn é uma biblioteca de visualização de dados para Python baseada no Matplotlib. Ela fornece uma interface de alto nível para desenhar gráficos estatísticos atraentes e informativos.\n",
    "\n",
    "Principais vantagens do Seaborn:\n",
    "- Estilos visuais e paletas de cores bonitas por padrão.\n",
    "- Funções complexas de visualização com poucas linhas de código.\n",
    "- Ótima integração com as estruturas de dados do Pandas."
   ]
  },
  {
   "cell_type": "markdown",
   "metadata": {},
   "source": [
    "### Instalação e Importação\n",
    "\n",
    "O Seaborn geralmente é usado junto com pandas e matplotlib.\n",
    "```bash\n",
    "pip install seaborn pandas matplotlib\n",
    "```\n",
    "A convenção é importar o `seaborn` com o apelido `sns`."
   ]
  },
  {
   "cell_type": "code",
   "execution_count": null,
   "metadata": {},
   "outputs": [],
   "source": [
    "import seaborn as sns\n",
    "import matplotlib.pyplot as plt\n",
    "import pandas as pd\n",
    "\n",
    "# Definindo um tema estético para todos os gráficos\n",
    "sns.set_theme(style=\"whitegrid\")"
   ]
  },
  {
   "cell_type": "markdown",
   "metadata": {},
   "source": [
    "### Carregando Datasets de Exemplo\n",
    "\n",
    "O Seaborn vem com alguns datasets clássicos para facilitar a prototipação e o aprendizado."
   ]
  },
  {
   "cell_type": "code",
   "execution_count": null,
   "metadata": {},
   "outputs": [],
   "source": [
    "# Carregando o dataset 'tips' (gorjetas em um restaurante)\n",
    "tips_df = sns.load_dataset(\"tips\")\n",
    "\n",
    "# Visualizando as primeiras linhas\n",
    "tips_df.head()"
   ]
  },
  {
   "cell_type": "markdown",
   "metadata": {},
   "source": [
    "### Gráficos de Relação (`scatterplot`, `lineplot`)\n",
    "\n",
    "São usados para entender a relação entre duas variáveis numéricas. Com o Seaborn, é fácil adicionar uma terceira variável categórica usando o parâmetro `hue`."
   ]
  },
  {
   "cell_type": "code",
   "execution_count": null,
   "metadata": {},
   "outputs": [],
   "source": [
    "plt.figure(figsize=(10, 6))\n",
    "sns.scatterplot(data=tips_df, x=\"total_bill\", y=\"tip\", hue=\"sex\")\n",
    "plt.title('Relação entre Valor da Conta e Gorjeta por Sexo')\n",
    "plt.xlabel('Valor Total da Conta ($)')\n",
    "plt.ylabel('Valor da Gorjeta ($)')\n",
    "plt.show()"
   ]
  },
  {
   "cell_type": "markdown",
   "metadata": {},
   "source": [
    "### Gráficos de Distribuição (`histplot`, `kdeplot`)\n",
    "\n",
    "Esses gráficos nos ajudam a entender a distribuição de uma única variável."
   ]
  },
  {
   "cell_type": "code",
   "execution_count": null,
   "metadata": {},
   "outputs": [],
   "source": [
    "# Histograma com uma curva de densidade (KDE)\n",
    "sns.histplot(data=tips_df, x=\"total_bill\", kde=True)\n",
    "plt.title('Distribuição do Valor Total da Conta')\n",
    "plt.show()"
   ]
  },
  {
   "cell_type": "markdown",
   "metadata": {},
   "source": [
    "### Gráficos Categóricos (`boxplot`, `violinplot`, `barplot`)\n",
    "\n",
    "São ideais para visualizar a relação entre uma variável numérica e uma ou mais variáveis categóricas."
   ]
  },
  {
   "cell_type": "code",
   "execution_count": null,
   "metadata": {},
   "outputs": [],
   "source": [
    "# Boxplot para comparar a distribuição das gorjetas por dia da semana\n",
    "plt.figure(figsize=(10, 6))\n",
    "sns.boxplot(data=tips_df, x=\"day\", y=\"tip\", hue=\"smoker\")\n",
    "plt.title('Distribuição das Gorjetas por Dia da Semana e se o Cliente é Fumante')\n",
    "plt.show()"
   ]
  },
  {
   "cell_type": "code",
   "execution_count": null,
   "metadata": {},
   "outputs": [],
   "source": [
    "# Barplot mostra a média (por padrão) de uma variável numérica por categoria\n",
    "plt.figure(figsize=(10, 6))\n",
    "sns.barplot(data=tips_df, x=\"day\", y=\"total_bill\", hue=\"time\")\n",
    "plt.title('Média do Valor da Conta por Dia e Período (Almoço/Jantar)')\n",
    "plt.show()"
   ]
  },
  {
   "cell_type": "markdown",
   "metadata": {},
   "source": [
    "### Gráficos de Regressão (`lmplot`)\n",
    "\n",
    "O `lmplot` combina um gráfico de dispersão com uma linha de regressão linear, ajudando a visualizar a tendência entre duas variáveis."
   ]
  },
  {
   "cell_type": "code",
   "execution_count": null,
   "metadata": {},
   "outputs": [],
   "source": [
    "# Cria um gráfico de regressão e separa por categoria (colunas) e cor (hue)\n",
    "sns.lmplot(data=tips_df, x=\"total_bill\", y=\"tip\", col=\"time\", hue=\"smoker\")\n",
    "plt.show()"
   ]
  },
  {
   "cell_type": "markdown",
   "metadata": {},
   "source": [
    "### Gráficos de Matriz (`heatmap`)\n",
    "\n",
    "Um heatmap é uma representação gráfica de dados onde os valores individuais contidos em uma matriz são representados por cores. É muito útil para visualizar matrizes de correlação."
   ]
  },
  {
   "cell_type": "code",
   "execution_count": null,
   "metadata": {},
   "outputs": [],
   "source": [
    "# Selecionando apenas as colunas numéricas para calcular a correlação\n",
    "numeric_cols = tips_df.select_dtypes(include=np.number)\n",
    "correlacao = numeric_cols.corr()\n",
    "\n",
    "# Criando o heatmap\n",
    "plt.figure(figsize=(8, 6))\n",
    "sns.heatmap(correlacao, annot=True, cmap=\"coolwarm\", fmt=\".2f\")\n",
    "plt.title('Mapa de Calor da Correlação entre Variáveis Numéricas')\n",
    "plt.show()"
   ]
  },
  {
   "cell_type": "markdown",
   "metadata": {},
   "source": [
    "### Conclusão\n",
    "\n",
    "Seaborn é uma ferramenta poderosa que estende o Matplotlib para criar visualizações estatísticas mais sofisticadas com menos código. Ele se integra perfeitamente com DataFrames do Pandas, tornando-o uma escolha essencial para a análise exploratória de dados em Python."
   ]
  }
 ],
 "metadata": {
  "kernelspec": {
   "display_name": "Python 3",
   "language": "python",
   "name": "python3"
  },
  "language_info": {
   "codemirror_mode": {
    "name": "ipython",
    "version": 3
   },
   "file_extension": ".py",
   "mimetype": "text/x-python",
   "name": "python",
   "nbconvert_exporter": "python",
   "pygments_lexer": "ipython3",
   "version": "3.9.12"
  }
 },
 "nbformat": 4,
 "nbformat_minor": 4
}