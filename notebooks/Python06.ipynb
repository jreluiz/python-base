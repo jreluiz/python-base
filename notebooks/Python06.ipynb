{
 "cells": [
  {
   "cell_type": "markdown",
   "metadata": {},
   "source": [
    "# Aula 06: Visualização de Dados com Matplotlib"
   ]
  },
  {
   "cell_type": "markdown",
   "metadata": {},
   "source": [
    "## O que é Matplotlib?\n",
    "\n",
    "Matplotlib é uma biblioteca de visualização de dados para Python que permite a criação de uma vasta gama de gráficos estáticos, animados e interativos. É uma das bibliotecas mais populares para plotagem em Python e serve como base para muitas outras, como o Seaborn.\n",
    "\n",
    "O módulo mais utilizado do Matplotlib é o `pyplot`, que fornece uma interface simples para criar gráficos de maneira semelhante ao MATLAB."
   ]
  },
  {
   "cell_type": "markdown",
   "metadata": {},
   "source": [
    "### Instalando e Importando\n",
    "\n",
    "Se ainda não tiver o Matplotlib instalado, você pode usar o pip:\n",
    "```bash\n",
    "pip install matplotlib numpy\n",
    "```\n",
    "A convenção é importar o `matplotlib.pyplot` com o apelido `plt`."
   ]
  },
  {
   "cell_type": "code",
   "execution_count": null,
   "metadata": {},
   "outputs": [],
   "source": [
    "import matplotlib.pyplot as plt\n",
    "import numpy as np"
   ]
  },
  {
   "cell_type": "markdown",
   "metadata": {},
   "source": [
    "### Criando um Gráfico Simples (Gráfico de Linha)\n",
    "\n",
    "O gráfico mais básico é o de linha, criado com a função `plt.plot()`. Depois de definir o gráfico, usamos `plt.show()` para exibi-lo."
   ]
  },
  {
   "cell_type": "code",
   "execution_count": null,
   "metadata": {},
   "outputs": [],
   "source": [
    "# Preparando alguns dados\n",
    "x = np.linspace(0, 10, 100) # Gera 100 números de 0 a 10\n",
    "y = np.sin(x) # Calcula o seno de cada número\n",
    "\n",
    "# Criando o gráfico\n",
    "plt.plot(x, y)\n",
    "\n",
    "# Exibindo o gráfico\n",
    "plt.show()"
   ]
  },
  {
   "cell_type": "markdown",
   "metadata": {},
   "source": [
    "### Customizando o Gráfico\n",
    "\n",
    "Podemos adicionar títulos, rótulos para os eixos, legendas e muito mais para tornar o gráfico mais informativo."
   ]
  },
  {
   "cell_type": "code",
   "execution_count": null,
   "metadata": {},
   "outputs": [],
   "source": [
    "# Dados\n",
    "x = np.linspace(0, 10, 100)\n",
    "y_sin = np.sin(x)\n",
    "y_cos = np.cos(x)\n",
    "\n",
    "# Plotando as duas linhas e adicionando rótulos (label) para a legenda\n",
    "plt.plot(x, y_sin, color='blue', linestyle='--', label='Seno')\n",
    "plt.plot(x, y_cos, color='red', label='Cosseno')\n",
    "\n",
    "# Adicionando título e rótulos aos eixos\n",
    "plt.title('Gráfico de Seno e Cosseno')\n",
    "plt.xlabel('Eixo X (radianos)')\n",
    "plt.ylabel('Eixo Y (valor)')\n",
    "\n",
    "# Adicionando uma grade\n",
    "plt.grid(True)\n",
    "\n",
    "# Adicionando a legenda\n",
    "plt.legend()\n",
    "\n",
    "# Exibindo o gráfico\n",
    "plt.show()"
   ]
  },
  {
   "cell_type": "markdown",
   "metadata": {},
   "source": [
    "### Outros Tipos de Gráficos\n",
    "\n",
    "Matplotlib suporta diversos tipos de gráficos para diferentes finalidades de análise."
   ]
  },
  {
   "cell_type": "markdown",
   "metadata": {},
   "source": [
    "#### Gráfico de Barras (`plt.bar`)\n",
    "Ideal para comparar valores entre diferentes categorias."
   ]
  },
  {
   "cell_type": "code",
   "execution_count": null,
   "metadata": {},
   "outputs": [],
   "source": [
    "categorias = ['Grupo A', 'Grupo B', 'Grupo C', 'Grupo D']\n",
    "valores = [15, 30, 22, 18]\n",
    "\n",
    "plt.bar(categorias, valores, color='skyblue')\n",
    "plt.title('Comparação entre Grupos')\n",
    "plt.ylabel('Pontuação')\n",
    "plt.show()"
   ]
  },
  {
   "cell_type": "markdown",
   "metadata": {},
   "source": [
    "#### Histograma (`plt.hist`)\n",
    "Usado para visualizar a distribuição de uma variável numérica."
   ]
  },
  {
   "cell_type": "code",
   "execution_count": null,
   "metadata": {},
   "outputs": [],
   "source": [
    "# Gerando 1000 números aleatórios de uma distribuição normal\n",
    "dados = np.random.randn(1000)\n",
    "\n",
    "plt.hist(dados, bins=30, color='lightgreen', edgecolor='black')\n",
    "plt.title('Distribuição de Dados')\n",
    "plt.xlabel('Valor')\n",
    "plt.ylabel('Frequência')\n",
    "plt.show()"
   ]
  },
  {
   "cell_type": "markdown",
   "metadata": {},
   "source": [
    "#### Gráfico de Dispersão (`plt.scatter`)\n",
    "Perfeito para observar a relação entre duas variáveis numéricas."
   ]
  },
  {
   "cell_type": "code",
   "execution_count": null,
   "metadata": {},
   "outputs": [],
   "source": [
    "# Dados aleatórios para x e y\n",
    "x = np.random.rand(50) * 100\n",
    "y = np.random.rand(50) * 100\n",
    "\n",
    "plt.scatter(x, y, color='purple')\n",
    "plt.title('Relação entre Duas Variáveis Aleatórias')\n",
    "plt.xlabel('Variável X')\n",
    "plt.ylabel('Variável Y')\n",
    "plt.show()"
   ]
  },
  {
   "cell_type": "markdown",
   "metadata": {},
   "source": [
    "### Subplots: Múltiplos Gráficos em uma Figura\n",
    "\n",
    "É muito comum querer exibir vários gráficos juntos. A função `plt.subplots()` é uma maneira poderosa de fazer isso."
   ]
  },
  {
   "cell_type": "code",
   "execution_count": null,
   "metadata": {},
   "outputs": [],
   "source": [
    "# Criando uma figura e um conjunto de subplots (2 linhas, 2 colunas)\n",
    "fig, axs = plt.subplots(2, 2, figsize=(12, 10))\n",
    "\n",
    "# Gráfico 1: Linha\n",
    "axs[0, 0].plot(x, y_sin, color='orange')\n",
    "axs[0, 0].set_title('Seno')\n",
    "\n",
    "# Gráfico 2: Barras\n",
    "axs[0, 1].bar(categorias, valores, color='cyan')\n",
    "axs[0, 1].set_title('Barras')\n",
    "\n",
    "# Gráfico 3: Histograma\n",
    "axs[1, 0].hist(dados, bins=30, color='magenta')\n",
    "axs[1, 0].set_title('Histograma')\n",
    "\n",
    "# Gráfico 4: Dispersão\n",
    "axs[1, 1].scatter(x, y, color='brown')\n",
    "axs[1, 1].set_title('Dispersão')\n",
    "\n",
    "# Ajusta o layout para evitar sobreposição de títulos\n",
    "plt.tight_layout()\n",
    "\n",
    "# Exibe a figura com todos os gráficos\n",
    "plt.show()"
   ]
  },
  {
   "cell_type": "markdown",
   "metadata": {},
   "source": [
    "### Conclusão\n",
    "\n",
    "Matplotlib é uma ferramenta essencial para qualquer cientista de dados ou analista que trabalhe com Python. Hoje, vimos como criar e customizar gráficos básicos, explorar diferentes tipos de plots e combinar vários gráficos em uma única figura. A partir daqui, você pode explorar gráficos 3D, animações e as muitas opções de customização que a biblioteca oferece."
   ]
  }
 ],
 "metadata": {
  "kernelspec": {
   "display_name": "Python 3",
   "language": "python",
   "name": "python3"
  },
  "language_info": {
   "codemirror_mode": {
    "name": "ipython",
    "version": 3
   },
   "file_extension": ".py",
   "mimetype": "text/x-python",
   "name": "python",
   "nbconvert_exporter": "python",
   "pygments_lexer": "ipython3",
   "version": "3.9.12"
  }
 },
 "nbformat": 4,
 "nbformat_minor": 4
}